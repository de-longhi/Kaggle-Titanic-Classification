{
 "cells": [
  {
   "cell_type": "markdown",
   "id": "15c822b1-c5ec-401f-9451-6a7d8b3719fa",
   "metadata": {},
   "source": [
    "# Kaggle Titanic Classification Problem"
   ]
  },
  {
   "cell_type": "markdown",
   "id": "8afea352-baeb-4950-b810-43d52a42187c",
   "metadata": {},
   "source": [
    "## Imports"
   ]
  },
  {
   "cell_type": "code",
   "execution_count": 5,
   "id": "830f941d-42a3-4085-bceb-8df4b131c64b",
   "metadata": {},
   "outputs": [],
   "source": [
    "import numpy as np\n",
    "import pandas as pd\n",
    "from matplotlib.pyplot import subplots\n",
    "from statsmodels.datasets import get_rdataset\n",
    "import sklearn.model_selection as skm\n",
    "from ISLP import load_data , confusion_table\n",
    "from ISLP.models import ModelSpec as MS\n",
    "\n",
    "from sklearn.tree import ( DecisionTreeClassifier as DTC ,\n",
    "DecisionTreeRegressor as DTR ,\n",
    "plot_tree ,\n",
    "export_text)\n",
    "from sklearn.metrics import (accuracy_score ,\n",
    "log_loss)\n",
    "from sklearn.ensemble import \\\n",
    "(RandomForestRegressor as RF ,\n",
    "GradientBoostingRegressor as GBR)\n",
    "from ISLP.bart import BART"
   ]
  },
  {
   "cell_type": "markdown",
   "id": "c3970c73-ee25-473d-8ac5-3170fa10e606",
   "metadata": {},
   "source": [
    "## EDA"
   ]
  },
  {
   "cell_type": "markdown",
   "id": "95ca0980-ae79-4977-ba2d-b988efc77712",
   "metadata": {},
   "source": [
    "no"
   ]
  },
  {
   "cell_type": "markdown",
   "id": "8a57ed6d-e148-48b1-80a2-ddc6454398c6",
   "metadata": {},
   "source": [
    "## Analysis of the data"
   ]
  },
  {
   "cell_type": "markdown",
   "id": "21452993-c849-4961-af5c-e99cd4dc4412",
   "metadata": {},
   "source": [
    "The focus of this notebook is primarily for me to practice trees so we start by analysing the data using a basic decision tree. This will also determine the most valuable predictors for our model."
   ]
  },
  {
   "cell_type": "code",
   "execution_count": null,
   "id": "791f92ee-d5d5-4416-a928-851212afaaaf",
   "metadata": {},
   "outputs": [],
   "source": [
    "fit_transform()"
   ]
  }
 ],
 "metadata": {
  "kernelspec": {
   "display_name": "Python 3 (ipykernel)",
   "language": "python",
   "name": "python3"
  },
  "language_info": {
   "codemirror_mode": {
    "name": "ipython",
    "version": 3
   },
   "file_extension": ".py",
   "mimetype": "text/x-python",
   "name": "python",
   "nbconvert_exporter": "python",
   "pygments_lexer": "ipython3",
   "version": "3.10.13"
  }
 },
 "nbformat": 4,
 "nbformat_minor": 5
}
