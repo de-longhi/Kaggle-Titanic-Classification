{
 "cells": [
  {
   "cell_type": "markdown",
   "id": "15c822b1-c5ec-401f-9451-6a7d8b3719fa",
   "metadata": {},
   "source": [
    "# Kaggle Titanic Classification Problem"
   ]
  },
  {
   "cell_type": "markdown",
   "id": "dd07d672-ae69-4b47-9f57-e78853449f24",
   "metadata": {},
   "source": [
    "## Introduction"
   ]
  },
  {
   "cell_type": "markdown",
   "id": "2fbf3ac4-863d-4448-ae6a-a9821f4288fa",
   "metadata": {},
   "source": [
    "This notebook was created by Johan Hendrik de Jongh (<A Href=\"https://github.com/de-longhi\">de-longhi</A>) and the aim of it is to predict whether a passenger on the titanic will survive or not. The data is from <A Href=\"https://www.kaggle.com/datasets\">Kaggle</A> and I am doing this to try to increase my knowledge about my field. I am only a student so some help will always be appreciated."
   ]
  },
  {
   "cell_type": "markdown",
   "id": "8afea352-baeb-4950-b810-43d52a42187c",
   "metadata": {},
   "source": [
    "## Imports"
   ]
  },
  {
   "cell_type": "code",
   "execution_count": 8,
   "id": "830f941d-42a3-4085-bceb-8df4b131c64b",
   "metadata": {},
   "outputs": [],
   "source": [
    "import numpy as np\n",
    "import pandas as pd\n",
    "import matplotlib.pyplot as plt\n",
    "from matplotlib.pyplot import subplots\n",
    "from statsmodels.datasets import get_rdataset\n",
    "import sklearn.model_selection as skm\n",
    "\n",
    "from sklearn.tree import ( DecisionTreeClassifier as DTC ,DecisionTreeRegressor as DTR ,plot_tree ,export_text)\n",
    "from sklearn.metrics import (accuracy_score ,log_loss)\n",
    "from sklearn.ensemble import RandomForestClassifier as RF, GradientBoostingClassifier as GBC\n",
    "\n",
    "\n",
    "from sklearn.model_selection import GridSearchCV\n"
   ]
  },
  {
   "cell_type": "markdown",
   "id": "b202db69-1845-4eea-8d73-9a27b553d0ba",
   "metadata": {},
   "source": [
    "## Boilerplate"
   ]
  },
  {
   "cell_type": "code",
   "execution_count": 3,
   "id": "d9000ea7-954b-4e98-8724-b0a85691acb8",
   "metadata": {},
   "outputs": [],
   "source": [
    "df = pd.read_csv(filepath_or_buffer=\"../Data/train.csv\")\n",
    "test_df = pd.read_csv(filepath_or_buffer=\"../Data/test.csv\")\n",
    "X_without_dummies = df[[\"Pclass\", \"Sex\", \"Age\", \"SibSp\", \"Parch\", \"Fare\", \"Embarked\"]].dropna(axis = \"index\")\n",
    "X = pd.get_dummies(data = X_without_dummies)\n",
    "Y = df[[\"Survived\"]]"
   ]
  },
  {
   "cell_type": "markdown",
   "id": "c3970c73-ee25-473d-8ac5-3170fa10e606",
   "metadata": {},
   "source": [
    "## Data Wrangling"
   ]
  },
  {
   "cell_type": "markdown",
   "id": "33b76811-e5c0-425a-85af-a911882f45c0",
   "metadata": {},
   "source": [
    "We start by looking at our database. We see that there is a lot of missing data in the Cabin column and some missing data in the Age column. The Ticket and Name columns don't seem very usefull at first but the ticket may point to where on the ship the person was located and the Name column tells us the Title of each person."
   ]
  },
  {
   "cell_type": "code",
   "execution_count": 4,
   "id": "3be19d2d-73f8-4f9d-baea-87f8d7043e86",
   "metadata": {},
   "outputs": [
    {
     "data": {
      "text/html": [
       "<div>\n",
       "<style scoped>\n",
       "    .dataframe tbody tr th:only-of-type {\n",
       "        vertical-align: middle;\n",
       "    }\n",
       "\n",
       "    .dataframe tbody tr th {\n",
       "        vertical-align: top;\n",
       "    }\n",
       "\n",
       "    .dataframe thead th {\n",
       "        text-align: right;\n",
       "    }\n",
       "</style>\n",
       "<table border=\"1\" class=\"dataframe\">\n",
       "  <thead>\n",
       "    <tr style=\"text-align: right;\">\n",
       "      <th></th>\n",
       "      <th>PassengerId</th>\n",
       "      <th>Survived</th>\n",
       "      <th>Pclass</th>\n",
       "      <th>Name</th>\n",
       "      <th>Sex</th>\n",
       "      <th>Age</th>\n",
       "      <th>SibSp</th>\n",
       "      <th>Parch</th>\n",
       "      <th>Ticket</th>\n",
       "      <th>Fare</th>\n",
       "      <th>Cabin</th>\n",
       "      <th>Embarked</th>\n",
       "    </tr>\n",
       "  </thead>\n",
       "  <tbody>\n",
       "    <tr>\n",
       "      <th>0</th>\n",
       "      <td>1</td>\n",
       "      <td>0</td>\n",
       "      <td>3</td>\n",
       "      <td>Braund, Mr. Owen Harris</td>\n",
       "      <td>male</td>\n",
       "      <td>22.0</td>\n",
       "      <td>1</td>\n",
       "      <td>0</td>\n",
       "      <td>A/5 21171</td>\n",
       "      <td>7.2500</td>\n",
       "      <td>NaN</td>\n",
       "      <td>S</td>\n",
       "    </tr>\n",
       "    <tr>\n",
       "      <th>1</th>\n",
       "      <td>2</td>\n",
       "      <td>1</td>\n",
       "      <td>1</td>\n",
       "      <td>Cumings, Mrs. John Bradley (Florence Briggs Th...</td>\n",
       "      <td>female</td>\n",
       "      <td>38.0</td>\n",
       "      <td>1</td>\n",
       "      <td>0</td>\n",
       "      <td>PC 17599</td>\n",
       "      <td>71.2833</td>\n",
       "      <td>C85</td>\n",
       "      <td>C</td>\n",
       "    </tr>\n",
       "    <tr>\n",
       "      <th>2</th>\n",
       "      <td>3</td>\n",
       "      <td>1</td>\n",
       "      <td>3</td>\n",
       "      <td>Heikkinen, Miss. Laina</td>\n",
       "      <td>female</td>\n",
       "      <td>26.0</td>\n",
       "      <td>0</td>\n",
       "      <td>0</td>\n",
       "      <td>STON/O2. 3101282</td>\n",
       "      <td>7.9250</td>\n",
       "      <td>NaN</td>\n",
       "      <td>S</td>\n",
       "    </tr>\n",
       "    <tr>\n",
       "      <th>3</th>\n",
       "      <td>4</td>\n",
       "      <td>1</td>\n",
       "      <td>1</td>\n",
       "      <td>Futrelle, Mrs. Jacques Heath (Lily May Peel)</td>\n",
       "      <td>female</td>\n",
       "      <td>35.0</td>\n",
       "      <td>1</td>\n",
       "      <td>0</td>\n",
       "      <td>113803</td>\n",
       "      <td>53.1000</td>\n",
       "      <td>C123</td>\n",
       "      <td>S</td>\n",
       "    </tr>\n",
       "    <tr>\n",
       "      <th>4</th>\n",
       "      <td>5</td>\n",
       "      <td>0</td>\n",
       "      <td>3</td>\n",
       "      <td>Allen, Mr. William Henry</td>\n",
       "      <td>male</td>\n",
       "      <td>35.0</td>\n",
       "      <td>0</td>\n",
       "      <td>0</td>\n",
       "      <td>373450</td>\n",
       "      <td>8.0500</td>\n",
       "      <td>NaN</td>\n",
       "      <td>S</td>\n",
       "    </tr>\n",
       "  </tbody>\n",
       "</table>\n",
       "</div>"
      ],
      "text/plain": [
       "   PassengerId  Survived  Pclass  \\\n",
       "0            1         0       3   \n",
       "1            2         1       1   \n",
       "2            3         1       3   \n",
       "3            4         1       1   \n",
       "4            5         0       3   \n",
       "\n",
       "                                                Name     Sex   Age  SibSp  \\\n",
       "0                            Braund, Mr. Owen Harris    male  22.0      1   \n",
       "1  Cumings, Mrs. John Bradley (Florence Briggs Th...  female  38.0      1   \n",
       "2                             Heikkinen, Miss. Laina  female  26.0      0   \n",
       "3       Futrelle, Mrs. Jacques Heath (Lily May Peel)  female  35.0      1   \n",
       "4                           Allen, Mr. William Henry    male  35.0      0   \n",
       "\n",
       "   Parch            Ticket     Fare Cabin Embarked  \n",
       "0      0         A/5 21171   7.2500   NaN        S  \n",
       "1      0          PC 17599  71.2833   C85        C  \n",
       "2      0  STON/O2. 3101282   7.9250   NaN        S  \n",
       "3      0            113803  53.1000  C123        S  \n",
       "4      0            373450   8.0500   NaN        S  "
      ]
     },
     "execution_count": 4,
     "metadata": {},
     "output_type": "execute_result"
    }
   ],
   "source": [
    "df.head()"
   ]
  },
  {
   "cell_type": "code",
   "execution_count": 9,
   "id": "1ba2bb8c-1937-46b1-a2b8-f0471ae1e6e2",
   "metadata": {},
   "outputs": [
    {
     "data": {
      "text/plain": [
       "PassengerId      0\n",
       "Survived         0\n",
       "Pclass           0\n",
       "Name             0\n",
       "Sex              0\n",
       "Age            177\n",
       "SibSp            0\n",
       "Parch            0\n",
       "Ticket           0\n",
       "Fare             0\n",
       "Cabin          687\n",
       "Embarked         2\n",
       "dtype: int64"
      ]
     },
     "execution_count": 9,
     "metadata": {},
     "output_type": "execute_result"
    }
   ],
   "source": [
    "df.isna().sum()"
   ]
  },
  {
   "cell_type": "markdown",
   "id": "309ccfca-3004-482d-ba7d-19b74b25eb93",
   "metadata": {},
   "source": [
    "jkdfsalfjasdklfjaskl;dfjlkas;d;"
   ]
  },
  {
   "cell_type": "code",
   "execution_count": 4,
   "id": "f8d2919e-2f97-45d0-999a-b1f4fcfa8245",
   "metadata": {},
   "outputs": [
    {
     "data": {
      "text/html": [
       "<div>\n",
       "<style scoped>\n",
       "    .dataframe tbody tr th:only-of-type {\n",
       "        vertical-align: middle;\n",
       "    }\n",
       "\n",
       "    .dataframe tbody tr th {\n",
       "        vertical-align: top;\n",
       "    }\n",
       "\n",
       "    .dataframe thead th {\n",
       "        text-align: right;\n",
       "    }\n",
       "</style>\n",
       "<table border=\"1\" class=\"dataframe\">\n",
       "  <thead>\n",
       "    <tr style=\"text-align: right;\">\n",
       "      <th></th>\n",
       "      <th>PassengerId</th>\n",
       "      <th>Survived</th>\n",
       "      <th>Pclass</th>\n",
       "      <th>Age</th>\n",
       "      <th>SibSp</th>\n",
       "      <th>Parch</th>\n",
       "      <th>Fare</th>\n",
       "    </tr>\n",
       "  </thead>\n",
       "  <tbody>\n",
       "    <tr>\n",
       "      <th>PassengerId</th>\n",
       "      <td>1.000000</td>\n",
       "      <td>-0.005007</td>\n",
       "      <td>-0.035144</td>\n",
       "      <td>0.036847</td>\n",
       "      <td>-0.057527</td>\n",
       "      <td>-0.001652</td>\n",
       "      <td>0.012658</td>\n",
       "    </tr>\n",
       "    <tr>\n",
       "      <th>Survived</th>\n",
       "      <td>-0.005007</td>\n",
       "      <td>1.000000</td>\n",
       "      <td>-0.338481</td>\n",
       "      <td>-0.077221</td>\n",
       "      <td>-0.035322</td>\n",
       "      <td>0.081629</td>\n",
       "      <td>0.257307</td>\n",
       "    </tr>\n",
       "    <tr>\n",
       "      <th>Pclass</th>\n",
       "      <td>-0.035144</td>\n",
       "      <td>-0.338481</td>\n",
       "      <td>1.000000</td>\n",
       "      <td>-0.369226</td>\n",
       "      <td>0.083081</td>\n",
       "      <td>0.018443</td>\n",
       "      <td>-0.549500</td>\n",
       "    </tr>\n",
       "    <tr>\n",
       "      <th>Age</th>\n",
       "      <td>0.036847</td>\n",
       "      <td>-0.077221</td>\n",
       "      <td>-0.369226</td>\n",
       "      <td>1.000000</td>\n",
       "      <td>-0.308247</td>\n",
       "      <td>-0.189119</td>\n",
       "      <td>0.096067</td>\n",
       "    </tr>\n",
       "    <tr>\n",
       "      <th>SibSp</th>\n",
       "      <td>-0.057527</td>\n",
       "      <td>-0.035322</td>\n",
       "      <td>0.083081</td>\n",
       "      <td>-0.308247</td>\n",
       "      <td>1.000000</td>\n",
       "      <td>0.414838</td>\n",
       "      <td>0.159651</td>\n",
       "    </tr>\n",
       "    <tr>\n",
       "      <th>Parch</th>\n",
       "      <td>-0.001652</td>\n",
       "      <td>0.081629</td>\n",
       "      <td>0.018443</td>\n",
       "      <td>-0.189119</td>\n",
       "      <td>0.414838</td>\n",
       "      <td>1.000000</td>\n",
       "      <td>0.216225</td>\n",
       "    </tr>\n",
       "    <tr>\n",
       "      <th>Fare</th>\n",
       "      <td>0.012658</td>\n",
       "      <td>0.257307</td>\n",
       "      <td>-0.549500</td>\n",
       "      <td>0.096067</td>\n",
       "      <td>0.159651</td>\n",
       "      <td>0.216225</td>\n",
       "      <td>1.000000</td>\n",
       "    </tr>\n",
       "  </tbody>\n",
       "</table>\n",
       "</div>"
      ],
      "text/plain": [
       "             PassengerId  Survived    Pclass       Age     SibSp     Parch  \\\n",
       "PassengerId     1.000000 -0.005007 -0.035144  0.036847 -0.057527 -0.001652   \n",
       "Survived       -0.005007  1.000000 -0.338481 -0.077221 -0.035322  0.081629   \n",
       "Pclass         -0.035144 -0.338481  1.000000 -0.369226  0.083081  0.018443   \n",
       "Age             0.036847 -0.077221 -0.369226  1.000000 -0.308247 -0.189119   \n",
       "SibSp          -0.057527 -0.035322  0.083081 -0.308247  1.000000  0.414838   \n",
       "Parch          -0.001652  0.081629  0.018443 -0.189119  0.414838  1.000000   \n",
       "Fare            0.012658  0.257307 -0.549500  0.096067  0.159651  0.216225   \n",
       "\n",
       "                 Fare  \n",
       "PassengerId  0.012658  \n",
       "Survived     0.257307  \n",
       "Pclass      -0.549500  \n",
       "Age          0.096067  \n",
       "SibSp        0.159651  \n",
       "Parch        0.216225  \n",
       "Fare         1.000000  "
      ]
     },
     "execution_count": 4,
     "metadata": {},
     "output_type": "execute_result"
    }
   ],
   "source": [
    "df.corr(numeric_only = True)"
   ]
  },
  {
   "cell_type": "code",
   "execution_count": 74,
   "id": "ea736839-58ec-4563-ac23-fc8300a12ab5",
   "metadata": {},
   "outputs": [],
   "source": [
    "survived_data = df.loc[df[\"Survived\"] == 1, :].dropna(axis = \"index\", subset = \"Age\")\n",
    "not_survived_data = df.loc[df[\"Survived\"] == 0, :].dropna(axis = \"index\", subset = \"Age\")"
   ]
  },
  {
   "cell_type": "markdown",
   "id": "95ca0980-ae79-4977-ba2d-b988efc77712",
   "metadata": {},
   "source": [
    "We start with the numerical predictors: Age and Fare. As can be seen from the boxplots, the spread of data between survivors and non-survivors within age is very similar. The spread within Fare is much more significant. We can see that although the medians are similar, a much bigger percentage survivors are higher fare payers than non-survivors."
   ]
  },
  {
   "cell_type": "code",
   "execution_count": 16,
   "id": "3019a3aa-6ac6-4600-9a7c-e1a1b74e923d",
   "metadata": {},
   "outputs": [
    {
     "data": {
      "image/png": "[encoded data removed]",
      "text/plain": [
       "<Figure size 640x480 with 2 Axes>"
      ]
     },
     "metadata": {},
     "output_type": "display_data"
    }
   ],
   "source": [
    "fig_num, axs_num = plt.subplots(2)\n",
    "plt.subplots_adjust(hspace=0.3)\n",
    "axs_num[0].boxplot([survived_data.loc[:, \"Age\"].values, not_survived_data.loc[:, \"Age\"].values], labels=['Survived', 'Not Survived'], vert = False);\n",
    "axs_num[0].set_title(\"Age\");\n",
    "axs_num[1].boxplot([survived_data.loc[:, \"Fare\"].values, not_survived_data.loc[:, \"Fare\"].values], labels=['Survived', 'Not Survived'], vert = False, whis = 3);\n",
    "axs_num[1].set_title(\"Fare\"); # Outlier sensitivity has been decreased to increase visibility"
   ]
  },
  {
   "cell_type": "markdown",
   "id": "38cdd0dc-8f43-4ca3-ad92-8269ef36f8ad",
   "metadata": {},
   "source": [
    "Next, we explore the catergorical predictors namely: Pclass, Sex, SibSp, Parch and Embarked."
   ]
  },
  {
   "cell_type": "code",
   "execution_count": 79,
   "id": "c6724e77-e889-46f6-9dec-e4ef65d33284",
   "metadata": {},
   "outputs": [
    {
     "data": {
      "image/png": "[encoded data removed]",
      "text/plain": [
       "<Figure size 1500x500 with 5 Axes>"
      ]
     },
     "metadata": {},
     "output_type": "display_data"
    }
   ],
   "source": [
    "fig_cat, axs_cat = plt.subplots(1, 5, figsize = (15, 5))\n",
    "plt.subplots_adjust(wspace=0.5)\n",
    "\n",
    "axs_cat[0].bar(x = [1, 2, 3], height = survived_data.groupby(\"Pclass\")[\"PassengerId\"].count().reset_index(name = \"Count\").apply(get_pc_rate, axis = 1));\n",
    "axs_cat[0].set_xlabel(\"Pclass\");\n",
    "axs_cat[0].set_ylabel(\"Percentage survived\");\n",
    "\n",
    "axs_cat[1].bar(x = [\"female\", \"male\"], height = survived_data.groupby(\"Sex\")[\"PassengerId\"].count().reset_index(name = \"Count\").apply(get_sex_rate, axis = 1));\n",
    "axs_cat[1].set_xlabel(\"Sex\");\n",
    "axs_cat[1].set_ylabel(\"Percentage survived\");\n",
    "\n",
    "axs_cat[2].bar(x = [\"0\", \"1\", \"2\", \"3\", \"4\"], height = survived_data.groupby(\"SibSp\")[\"PassengerId\"].count().reset_index(name = \"Count\").apply(get_sibling_rate, axis = 1));\n",
    "axs_cat[2].set_xlabel(\"Number of siblings\");\n",
    "axs_cat[2].set_ylabel(\"Percentage survived\"); #note: none of 5 siblings on the ship survived and for the sake of simplicity, they are not included.\n",
    "\n",
    "axs_cat[3].bar(x = [\"0\", \"1\", \"2\", \"3\", \"5\"], height = survived_data.groupby(\"Parch\")[\"PassengerId\"].count().reset_index(name = \"Count\").apply(get_children_rate, axis = 1));\n",
    "axs_cat[3].set_xlabel(\"Number of children\");\n",
    "axs_cat[3].set_ylabel(\"Percentage survived\"); #note: all people with 4 or 6 children passed on the Titanic, they are not included.\n",
    "\n",
    "axs_cat[4].bar(x = [\"C\", \"Q\", \"S\"], height = survived_data.groupby(\"Embarked\")[\"PassengerId\"].count().reset_index(name = \"Count\").apply(get_embarked_rate, axis = 1));\n",
    "axs_cat[4].set_xlabel(\"Port of Embarkation\");\n",
    "axs_cat[4].set_ylabel(\"Percentage survived\"); #note: all people with 4 or 6 children passed on the Titanic, they are not included."
   ]
  },
  {
   "cell_type": "markdown",
   "id": "8a57ed6d-e148-48b1-80a2-ddc6454398c6",
   "metadata": {},
   "source": [
    "## The Model"
   ]
  },
  {
   "cell_type": "markdown",
   "id": "21452993-c849-4961-af5c-e99cd4dc4412",
   "metadata": {},
   "source": [
    "The focus of this notebook is primarily for me to practice trees so we start by analysing the data using a basic decision tree. This will also determine the most valuable predictors for our model. Note: Tree based methods are not scale sensitive so we will not be standardizing the data as according to the theory, it will not give us a useful performance increase. We will try every basic tree-based method and use GridSearch to find the best hyperparameters. We don't include Age in the predictors because of Nan values and complications regarding this in test data. Age also doesn't seem to have a lot of predictive power when it comes to survival."
   ]
  },
  {
   "cell_type": "code",
   "execution_count": 7,
   "id": "72e2bcb3-5fdc-4ca4-ae03-f8010049b4c7",
   "metadata": {},
   "outputs": [],
   "source": [
    "X_without_dummies = df.loc[:, [\"Pclass\", \"Sex\", \"SibSp\", \"Parch\", \"Fare\", \"Embarked\"]]\n",
    "X = pd.get_dummies(data = X_without_dummies, columns = [\"Pclass\", \"Sex\", \"SibSp\", \"Parch\", \"Embarked\"]) # Dummy variables in this function are created using one-hot encoding\n",
    "Y = df.loc[:, \"Survived\"]\n",
    "\n",
    "X.insert(20, column = \"Parch_9\",  value = np.zeros(shape = X.shape[0]))\n",
    "#X_train, X_val, Y_train, Y_val = skm.train_test_split(X, Y, test_size = 0.2, random_state = 0)"
   ]
  },
  {
   "cell_type": "markdown",
   "id": "a9464af5-1cf6-4370-91b8-5632bca21405",
   "metadata": {},
   "source": [
    "### Basic Classification Tree:"
   ]
  },
  {
   "cell_type": "markdown",
   "id": "dc67bcc8-6ae9-4fa2-b94d-157f38306a15",
   "metadata": {},
   "source": [
    "First, we make a classification tree while specifying a max depth. We use grid search to determine the decision tree with the best max depth. Then, we make a DT without specifying a max depth (letting the tree divide untill all data has been split) and then using grid search to determine the best alpha value with regards to pruning. We compare both the estimated test error. Test error is obviously estimated with the use of cross validation, splitting the data into 10 groups."
   ]
  },
  {
   "cell_type": "code",
   "execution_count": 8,
   "id": "e6dd60a1-cb93-492a-a067-d92a20a741e4",
   "metadata": {},
   "outputs": [
    {
     "name": "stdout",
     "output_type": "stream",
     "text": [
      "{'max_depth': 3}\n",
      "0.8069538077403247\n"
     ]
    }
   ],
   "source": [
    "#---- Model without pruning ------\n",
    "basic_model1 = DTC(criterion = \"entropy\", random_state = 0)\n",
    "parameters1 = {\"max_depth\" : [1, 2, 3, 4, 5, 6, 7, 8]}\n",
    "grid_search1 = GridSearchCV(estimator = basic_model1, param_grid = parameters1, cv = 10, refit = True)\n",
    "\n",
    "grid_search1.fit(X, Y);\n",
    "print(grid_search1.best_params_)\n",
    "print(grid_search1.best_score_)"
   ]
  },
  {
   "cell_type": "code",
   "execution_count": 33,
   "id": "7a52e0b4-9144-4d6a-a6a6-d48e511a6aab",
   "metadata": {},
   "outputs": [
    {
     "name": "stdout",
     "output_type": "stream",
     "text": [
      "{'ccp_alpha': 0.0009559219894652959}\n",
      "0.8092384519350813\n"
     ]
    }
   ],
   "source": [
    "#---- Model with pruning ----\n",
    "basic_model2 = DTC(criterion = \"entropy\", random_state = 0)\n",
    "ccp_path = basic_model2.cost_complexity_pruning_path (X , Y)\n",
    "parameters2 = {\"ccp_alpha\": ccp_path.ccp_alphas}\n",
    "grid_search2 = GridSearchCV(estimator=basic_model2, param_grid=parameters2, cv=10, refit = True)\n",
    "\n",
    "grid_search2.fit(X, Y);\n",
    "print(grid_search2.best_params_)\n",
    "print(grid_search2.best_score_)"
   ]
  },
  {
   "cell_type": "code",
   "execution_count": 62,
   "id": "d9231d7b-a221-4bd9-b154-38528a1f78b6",
   "metadata": {},
   "outputs": [
    {
     "data": {
      "text/plain": [
       "23"
      ]
     },
     "execution_count": 62,
     "metadata": {},
     "output_type": "execute_result"
    }
   ],
   "source": [
    "X.shape[1]"
   ]
  },
  {
   "cell_type": "markdown",
   "id": "9c9c9908-8f85-43ab-b9c3-ec342e5eea23",
   "metadata": {},
   "source": [
    "### Model with Bagging or Random Forest"
   ]
  },
  {
   "cell_type": "markdown",
   "id": "315be2a4-1ec9-4b08-bf99-c807f4513c3e",
   "metadata": {},
   "source": [
    "In the previous section, we made a model using a basic decision tree. This model will however suffer from high variance (if we split the data into two parts and fit our model with both parts, we might get completely different trees). We now start with a few ensemble methods that will attempt to aid this problem. We start with Random Forests. Recall that Bagging is simply a special case of Random Forests where all predictors are considered for each subset of the data. We won't try to prune the tree this time because overfitting is already addressed with random feature selection and subset selection."
   ]
  },
  {
   "cell_type": "code",
   "execution_count": 30,
   "id": "e43f8128-516a-4e21-a158-086c24602a9e",
   "metadata": {},
   "outputs": [
    {
     "name": "stdout",
     "output_type": "stream",
     "text": [
      "{'max_depth': 8, 'max_features': 14, 'n_estimators': 46}\n",
      "0.8193508114856429\n"
     ]
    }
   ],
   "source": [
    "forest_model = RF(criterion = \"entropy\", random_state = 0)\n",
    "parameters_forest = {\"max_depth\" : [3, 4, 5, 6, 7, 8], \"n_estimators\" : [45, 46, 47, 48], \"max_features\" : [10, 11, 12, 13, 14]}\n",
    "grid_search_forest = GridSearchCV(estimator = forest_model, param_grid = parameters_forest, cv = 10, refit = True, n_jobs = -1) #run on all threads because this algorithm takes a lot of time\n",
    "grid_search_forest.fit(X, Y)\n",
    "print(grid_search_forest.best_params_)\n",
    "print(grid_search_forest.best_score_)"
   ]
  },
  {
   "cell_type": "markdown",
   "id": "dc593c75-a812-43c6-94b1-8948e1d60ad0",
   "metadata": {},
   "source": [
    "### Boosting"
   ]
  },
  {
   "cell_type": "markdown",
   "id": "c1bd63ec-198a-4714-9996-6a7568c9a935",
   "metadata": {},
   "source": [
    "We consider one last model in which we use Gradient Boosting. "
   ]
  },
  {
   "cell_type": "code",
   "execution_count": 1,
   "id": "403b92de-5559-4a39-b20a-bca8825f9fed",
   "metadata": {},
   "outputs": [
    {
     "ename": "NameError",
     "evalue": "name 'GBC' is not defined",
     "output_type": "error",
     "traceback": [
      "\u001b[0;31m---------------------------------------------------------------------------\u001b[0m",
      "\u001b[0;31mNameError\u001b[0m                                 Traceback (most recent call last)",
      "Cell \u001b[0;32mIn[1], line 1\u001b[0m\n\u001b[0;32m----> 1\u001b[0m boost_model \u001b[38;5;241m=\u001b[39m \u001b[43mGBC\u001b[49m(loss \u001b[38;5;241m=\u001b[39m \u001b[38;5;124m\"\u001b[39m\u001b[38;5;124mlog_loss\u001b[39m\u001b[38;5;124m\"\u001b[39m,criterion \u001b[38;5;241m=\u001b[39m \u001b[38;5;124m\"\u001b[39m\u001b[38;5;124msquared_error\u001b[39m\u001b[38;5;124m\"\u001b[39m, random_state \u001b[38;5;241m=\u001b[39m \u001b[38;5;241m0\u001b[39m)\n\u001b[1;32m      2\u001b[0m parameters_boost \u001b[38;5;241m=\u001b[39m {\u001b[38;5;124m\"\u001b[39m\u001b[38;5;124mmax_depth\u001b[39m\u001b[38;5;124m\"\u001b[39m : [\u001b[38;5;241m3\u001b[39m, \u001b[38;5;241m4\u001b[39m, \u001b[38;5;241m5\u001b[39m, \u001b[38;5;241m6\u001b[39m, \u001b[38;5;241m7\u001b[39m, \u001b[38;5;241m8\u001b[39m], \u001b[38;5;124m\"\u001b[39m\u001b[38;5;124mn_estimators\u001b[39m\u001b[38;5;124m\"\u001b[39m : [ \u001b[38;5;241m50\u001b[39m, \u001b[38;5;241m51\u001b[39m, \u001b[38;5;241m52\u001b[39m, \u001b[38;5;241m53\u001b[39m], \u001b[38;5;124m\"\u001b[39m\u001b[38;5;124mmax_features\u001b[39m\u001b[38;5;124m\"\u001b[39m : [\u001b[38;5;241m10\u001b[39m, \u001b[38;5;241m11\u001b[39m, \u001b[38;5;241m12\u001b[39m, \u001b[38;5;241m13\u001b[39m, \u001b[38;5;241m14\u001b[39m], \u001b[38;5;124m\"\u001b[39m\u001b[38;5;124mlearning_rate\u001b[39m\u001b[38;5;124m\"\u001b[39m: [\u001b[38;5;241m0.1\u001b[39m, \u001b[38;5;241m0.01\u001b[39m, \u001b[38;5;241m0.001\u001b[39m]}\n\u001b[1;32m      3\u001b[0m grid_search_boost \u001b[38;5;241m=\u001b[39m GridSearchCV(estimator \u001b[38;5;241m=\u001b[39m boost_model, param_grid \u001b[38;5;241m=\u001b[39m parameters_boost, cv \u001b[38;5;241m=\u001b[39m \u001b[38;5;241m10\u001b[39m, refit \u001b[38;5;241m=\u001b[39m \u001b[38;5;28;01mTrue\u001b[39;00m, n_jobs \u001b[38;5;241m=\u001b[39m \u001b[38;5;241m-\u001b[39m\u001b[38;5;241m1\u001b[39m) \n",
      "\u001b[0;31mNameError\u001b[0m: name 'GBC' is not defined"
     ]
    }
   ],
   "source": [
    "boost_model = GBC(loss = \"log_loss\",criterion = \"squared_error\", random_state = 0)\n",
    "parameters_boost = {\"max_depth\" : [3, 4, 5, 6, 7, 8], \"n_estimators\" : [ 50, 51, 52, 53], \"max_features\" : [10, 11, 12, 13, 14], \"learning_rate\": [0.1, 0.01, 0.001]}\n",
    "grid_search_boost = GridSearchCV(estimator = boost_model, param_grid = parameters_boost, cv = 10, refit = True, n_jobs = -1) \n",
    "grid_search_boost.fit(X, Y)\n",
    "print(grid_search_boost.best_params_)\n",
    "print(grid_search_boost.best_score_)"
   ]
  },
  {
   "cell_type": "markdown",
   "id": "9ba0e66d-8885-4cbd-a489-0fba45c10325",
   "metadata": {},
   "source": [
    "## The Final Model"
   ]
  },
  {
   "cell_type": "markdown",
   "id": "27d1b973-4de7-44fb-8002-84a4ec324f26",
   "metadata": {},
   "source": [
    "We use the model calculated with the Gradient Boosting algorithm."
   ]
  },
  {
   "cell_type": "code",
   "execution_count": null,
   "id": "184a3549-90ca-4056-bad2-bb3861f2fa0b",
   "metadata": {},
   "outputs": [],
   "source": []
  },
  {
   "cell_type": "code",
   "execution_count": 35,
   "id": "719272c5-13a8-48a2-bfc9-fa3a05b5e5f1",
   "metadata": {},
   "outputs": [],
   "source": [
    "X_test_without_dummies = test_df.loc[:, [\"Pclass\", \"Sex\", \"SibSp\", \"Parch\", \"Fare\", \"Embarked\"]].fillna(X_test_without_dummies.Fare.mean())\n",
    "X_test = pd.get_dummies(data = X_test_without_dummies, columns = [\"Pclass\", \"Sex\", \"SibSp\", \"Parch\", \"Embarked\"])\n",
    "predictions = grid_search2.best_estimator_.predict(X_test)\n",
    "pred_df = pd.DataFrame({\"PassengerId\": test_df.PassengerId, \"Survived\" : predictions})\n",
    "pred_df.to_csv(\"willi.csv\", sep=',', index=False, encoding='utf-8')"
   ]
  },
  {
   "cell_type": "code",
   "execution_count": 17,
   "id": "b4ba6187-79e8-48db-bee0-8fd32e26b55f",
   "metadata": {},
   "outputs": [
    {
     "data": {
      "text/html": [
       "<div>\n",
       "<style scoped>\n",
       "    .dataframe tbody tr th:only-of-type {\n",
       "        vertical-align: middle;\n",
       "    }\n",
       "\n",
       "    .dataframe tbody tr th {\n",
       "        vertical-align: top;\n",
       "    }\n",
       "\n",
       "    .dataframe thead th {\n",
       "        text-align: right;\n",
       "    }\n",
       "</style>\n",
       "<table border=\"1\" class=\"dataframe\">\n",
       "  <thead>\n",
       "    <tr style=\"text-align: right;\">\n",
       "      <th></th>\n",
       "      <th>Pclass</th>\n",
       "      <th>Sex</th>\n",
       "      <th>SibSp</th>\n",
       "      <th>Parch</th>\n",
       "      <th>Fare</th>\n",
       "      <th>Embarked</th>\n",
       "    </tr>\n",
       "  </thead>\n",
       "  <tbody>\n",
       "    <tr>\n",
       "      <th>0</th>\n",
       "      <td>3</td>\n",
       "      <td>male</td>\n",
       "      <td>0</td>\n",
       "      <td>0</td>\n",
       "      <td>7.8292</td>\n",
       "      <td>Q</td>\n",
       "    </tr>\n",
       "    <tr>\n",
       "      <th>1</th>\n",
       "      <td>3</td>\n",
       "      <td>female</td>\n",
       "      <td>1</td>\n",
       "      <td>0</td>\n",
       "      <td>7.0000</td>\n",
       "      <td>S</td>\n",
       "    </tr>\n",
       "    <tr>\n",
       "      <th>2</th>\n",
       "      <td>2</td>\n",
       "      <td>male</td>\n",
       "      <td>0</td>\n",
       "      <td>0</td>\n",
       "      <td>9.6875</td>\n",
       "      <td>Q</td>\n",
       "    </tr>\n",
       "    <tr>\n",
       "      <th>3</th>\n",
       "      <td>3</td>\n",
       "      <td>male</td>\n",
       "      <td>0</td>\n",
       "      <td>0</td>\n",
       "      <td>8.6625</td>\n",
       "      <td>S</td>\n",
       "    </tr>\n",
       "    <tr>\n",
       "      <th>4</th>\n",
       "      <td>3</td>\n",
       "      <td>female</td>\n",
       "      <td>1</td>\n",
       "      <td>1</td>\n",
       "      <td>12.2875</td>\n",
       "      <td>S</td>\n",
       "    </tr>\n",
       "    <tr>\n",
       "      <th>...</th>\n",
       "      <td>...</td>\n",
       "      <td>...</td>\n",
       "      <td>...</td>\n",
       "      <td>...</td>\n",
       "      <td>...</td>\n",
       "      <td>...</td>\n",
       "    </tr>\n",
       "    <tr>\n",
       "      <th>413</th>\n",
       "      <td>3</td>\n",
       "      <td>male</td>\n",
       "      <td>0</td>\n",
       "      <td>0</td>\n",
       "      <td>8.0500</td>\n",
       "      <td>S</td>\n",
       "    </tr>\n",
       "    <tr>\n",
       "      <th>414</th>\n",
       "      <td>1</td>\n",
       "      <td>female</td>\n",
       "      <td>0</td>\n",
       "      <td>0</td>\n",
       "      <td>108.9000</td>\n",
       "      <td>C</td>\n",
       "    </tr>\n",
       "    <tr>\n",
       "      <th>415</th>\n",
       "      <td>3</td>\n",
       "      <td>male</td>\n",
       "      <td>0</td>\n",
       "      <td>0</td>\n",
       "      <td>7.2500</td>\n",
       "      <td>S</td>\n",
       "    </tr>\n",
       "    <tr>\n",
       "      <th>416</th>\n",
       "      <td>3</td>\n",
       "      <td>male</td>\n",
       "      <td>0</td>\n",
       "      <td>0</td>\n",
       "      <td>8.0500</td>\n",
       "      <td>S</td>\n",
       "    </tr>\n",
       "    <tr>\n",
       "      <th>417</th>\n",
       "      <td>3</td>\n",
       "      <td>male</td>\n",
       "      <td>1</td>\n",
       "      <td>1</td>\n",
       "      <td>22.3583</td>\n",
       "      <td>C</td>\n",
       "    </tr>\n",
       "  </tbody>\n",
       "</table>\n",
       "<p>418 rows × 6 columns</p>\n",
       "</div>"
      ],
      "text/plain": [
       "     Pclass     Sex  SibSp  Parch      Fare Embarked\n",
       "0         3    male      0      0    7.8292        Q\n",
       "1         3  female      1      0    7.0000        S\n",
       "2         2    male      0      0    9.6875        Q\n",
       "3         3    male      0      0    8.6625        S\n",
       "4         3  female      1      1   12.2875        S\n",
       "..      ...     ...    ...    ...       ...      ...\n",
       "413       3    male      0      0    8.0500        S\n",
       "414       1  female      0      0  108.9000        C\n",
       "415       3    male      0      0    7.2500        S\n",
       "416       3    male      0      0    8.0500        S\n",
       "417       3    male      1      1   22.3583        C\n",
       "\n",
       "[418 rows x 6 columns]"
      ]
     },
     "execution_count": 17,
     "metadata": {},
     "output_type": "execute_result"
    }
   ],
   "source": [
    "X_test_without_dummies"
   ]
  },
  {
   "cell_type": "code",
   "execution_count": 16,
   "id": "2100fa85-ca66-45db-b8e8-f32b15138cf8",
   "metadata": {},
   "outputs": [
    {
     "data": {
      "text/plain": [
       "Index(['Fare'], dtype='object')"
      ]
     },
     "execution_count": 16,
     "metadata": {},
     "output_type": "execute_result"
    }
   ],
   "source": [
    "X_test.columns[X_test.isnull().any()]"
   ]
  },
  {
   "cell_type": "code",
   "execution_count": 45,
   "id": "ad8872db-2ee3-442f-911a-6b379911d4b3",
   "metadata": {},
   "outputs": [
    {
     "data": {
      "text/plain": [
       "Index(['Fare', 'Pclass_1', 'Pclass_2', 'Pclass_3', 'Sex_female', 'Sex_male',\n",
       "       'SibSp_0', 'SibSp_1', 'SibSp_2', 'SibSp_3', 'SibSp_4', 'SibSp_5',\n",
       "       'SibSp_8', 'Parch_0', 'Parch_1', 'Parch_2', 'Parch_3', 'Parch_4',\n",
       "       'Parch_5', 'Parch_6', 'Parch_9', 'Embarked_C', 'Embarked_Q',\n",
       "       'Embarked_S'],\n",
       "      dtype='object')"
      ]
     },
     "execution_count": 45,
     "metadata": {},
     "output_type": "execute_result"
    }
   ],
   "source": [
    "X_test.columns"
   ]
  },
  {
   "cell_type": "code",
   "execution_count": 46,
   "id": "48ba2f00-2d6a-450f-99d4-81ea0801d51e",
   "metadata": {},
   "outputs": [
    {
     "data": {
      "text/plain": [
       "Index(['Fare', 'Pclass_1', 'Pclass_2', 'Pclass_3', 'Sex_female', 'Sex_male',\n",
       "       'SibSp_0', 'SibSp_1', 'SibSp_2', 'SibSp_3', 'SibSp_4', 'SibSp_5',\n",
       "       'SibSp_8', 'Parch_0', 'Parch_1', 'Parch_2', 'Parch_3', 'Parch_4',\n",
       "       'Parch_5', 'Parch_6', 'Parch_9', 'Embarked_C', 'Embarked_Q',\n",
       "       'Embarked_S'],\n",
       "      dtype='object')"
      ]
     },
     "execution_count": 46,
     "metadata": {},
     "output_type": "execute_result"
    }
   ],
   "source": [
    "X.columns"
   ]
  },
  {
   "cell_type": "markdown",
   "id": "7c514e3f-b959-48bc-95df-b89a55707e68",
   "metadata": {},
   "source": [
    "## Evaluation"
   ]
  },
  {
   "cell_type": "markdown",
   "id": "1cae584b-757f-4f60-925d-c31c7b7b0d3c",
   "metadata": {},
   "source": [
    "Due to the nature of this competition, we won't do an in depth evaluation. We can see that the random forest performed the best. "
   ]
  },
  {
   "cell_type": "markdown",
   "id": "1f378700-f07f-4cac-b2d8-22ab3a9d42d3",
   "metadata": {},
   "source": [
    "## Functions"
   ]
  },
  {
   "cell_type": "code",
   "execution_count": null,
   "id": "cdda8089-f296-4f5f-a039-9a6ebc08276c",
   "metadata": {},
   "outputs": [],
   "source": [
    "def get_pc_rate(row):\n",
    "    if row[\"Pclass\"] == 1:\n",
    "        return row[\"Count\"] / 186 * 100\n",
    "    if row[\"Pclass\"] == 2:\n",
    "        return row[\"Count\"] / 173 * 100\n",
    "    if row[\"Pclass\"] == 3: \n",
    "        return row[\"Count\"] / 355 * 100"
   ]
  },
  {
   "cell_type": "code",
   "execution_count": 67,
   "id": "52ae73ae-8915-4701-b57c-66dda1e9c114",
   "metadata": {},
   "outputs": [],
   "source": [
    "def get_sex_rate(row):\n",
    "    if row[\"Sex\"] == \"male\":\n",
    "        return row[\"Count\"] / 261 * 100\n",
    "    if row[\"Sex\"] == \"female\":\n",
    "        return row[\"Count\"] / 453 * 100"
   ]
  },
  {
   "cell_type": "code",
   "execution_count": 68,
   "id": "06def82c-4304-4cc0-82a6-55b3ef22aca7",
   "metadata": {},
   "outputs": [],
   "source": [
    "def get_sibling_rate(row):\n",
    "    if row[\"SibSp\"] == 0:\n",
    "        return row[\"Count\"] / 471 * 100\n",
    "    if row[\"SibSp\"] == 1:\n",
    "        return row[\"Count\"] / 183 * 100\n",
    "    if row[\"SibSp\"] == 2:\n",
    "        return row[\"Count\"] / 25 * 100\n",
    "    if row[\"SibSp\"] == 3:\n",
    "        return row[\"Count\"] / 12 * 100\n",
    "    if row[\"SibSp\"] == 4:\n",
    "        return row[\"Count\"] / 18 * 100\n",
    "    if row[\"SibSp\"] == 5:\n",
    "        return row[\"Count\"] / 5 * 100"
   ]
  },
  {
   "cell_type": "code",
   "execution_count": null,
   "id": "d3ab5122-9f47-4abb-8f7c-446d4ad2f158",
   "metadata": {},
   "outputs": [],
   "source": [
    "def get_children_rate(row):\n",
    "    if row[\"Parch\"] == 0:\n",
    "        return row[\"Count\"] / 521 * 100\n",
    "    if row[\"Parch\"] == 1:\n",
    "        return row[\"Count\"] / 110 * 100\n",
    "    if row[\"Parch\"] == 2:\n",
    "        return row[\"Count\"] / 68 * 100\n",
    "    if row[\"Parch\"] == 3:\n",
    "        return row[\"Count\"] / 5 * 100\n",
    "    if row[\"Parch\"] == 4:\n",
    "        return row[\"Count\"] / 4 * 100\n",
    "    if row[\"Parch\"] == 5:\n",
    "        return row[\"Count\"] / 5 * 100\n",
    "    if row[\"Parch\"] == 5:\n",
    "        return row[\"Count\"] / 1 * 100"
   ]
  },
  {
   "cell_type": "code",
   "execution_count": 77,
   "id": "2570acd5-0a87-4339-a162-96b73fbeef87",
   "metadata": {},
   "outputs": [],
   "source": [
    "def get_embarked_rate(row):\n",
    "    if row[\"Embarked\"] == \"C\":\n",
    "        return row[\"Count\"] / 130 * 100\n",
    "    if row[\"Embarked\"] == \"Q\":\n",
    "        return row[\"Count\"] / 28 * 100\n",
    "    if row[\"Embarked\"] == \"S\": \n",
    "        return row[\"Count\"] / 554 * 100"
   ]
  }
 ],
 "metadata": {
  "kernelspec": {
   "display_name": "Python 3 (ipykernel)",
   "language": "python",
   "name": "python3"
  },
  "language_info": {
   "codemirror_mode": {
    "name": "ipython",
    "version": 3
   },
   "file_extension": ".py",
   "mimetype": "text/x-python",
   "name": "python",
   "nbconvert_exporter": "python",
   "pygments_lexer": "ipython3",
   "version": "3.1.0"
  }
 },
 "nbformat": 4,
 "nbformat_minor": 5
}
